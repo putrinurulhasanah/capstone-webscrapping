{
 "cells": [
  {
   "cell_type": "markdown",
   "metadata": {},
   "source": [
    "# Capstone Webscrapping using BeautifulSoup\n",
    "\n",
    "This notebook contains guidances & tasks on the data processing for the application\n",
    "\n",
    "## Background\n",
    "\n",
    "Pada project ini, saya akan melakukan scrapping data dari sebuah job portal, yaitu Kalibrr. Kalibrr adalah sebuah job platform yang cukup populer di Indonesia. Tujuan saya melakukan scrapping data dari Kalibrr adalah untuk memperoleh insight menegnai eprsebaran lowongan pekerjaan berdasarkan lokasi.\n",
    "\n",
    "## Requesting the Data and Extracting the Right Information Using For Loop\n",
    "Requesting the data with `get` method and put the key into the `.find()`."
   ]
  },
  {
   "cell_type": "code",
   "execution_count": 1,
   "metadata": {},
   "outputs": [],
   "source": [
    "import requests\n",
    "from bs4 import BeautifulSoup\n",
    "import pandas as pd"
   ]
  },
  {
   "cell_type": "code",
   "execution_count": 2,
   "metadata": {},
   "outputs": [
    {
     "name": "stdout",
     "output_type": "stream",
     "text": [
      "div class=\"k-border-b k-border-t k-border-tertiary-ghost-color md:k-border md:k-overflow-hidden md:k-rounded-lg\">\n",
      " <div class=\"k-bg-white k-divide-y k-divide-solid k-divide-tertiary-ghost-color\" itemscope=\"\" itemtype=\"http://schema.org/ItemList\">\n",
      "  <style data-emotion=\"css 1b4vug6\">\n",
      "   .css-1b4vug6{grid-template-columns:5rem 1rem auto 1rem max-content;grid-template-rows:auto 0.25rem auto;}\n",
      "  </style>\n",
      "  <div class=\"k-grid k-border-tertiary-ghost-color k-text-sm k-p-4 md:k-p-6 css-1b4vug6\" itemprop=\"itemListElement\" itemscope=\"\" itemtype=\"http://schema.org/ListItem\">\n",
      "   <a class=\"k-bg-white k-flex k-items-center k-flex-shrink k-justify-center k-text-4xl k-text-subdued k-overflow-hidden k-px-4 k-py-2 k-row-span-4\" href=\"/id-ID/c/pgi-data/jobs\">\n",
      "    <div>\n",
      "     <img alt=\"PGI Data\" class=\"k-block k-max-w-full k-max-h-full k-bg-white k-mx-auto\" decoding=\"async\" height=\"80\" loading=\"eager\" src=\"https://rec-data.kalibrr.com/www.kalibrr.com/logos/Z7AL3F4XGKPLCEW9TFDFDZK33247MQ8J9PSHES26-6080167\n"
     ]
    }
   ],
   "source": [
    "url = f\"https://www.kalibrr.id/id-ID/job-board/te/data/1\"\n",
    "response = requests.get(url)\n",
    "response = response.content\n",
    "soup = BeautifulSoup(response, 'html.parser')\n",
    "table = soup.find('div', attrs={'class':'k-border-b k-border-t k-border-tertiary-ghost-color md:k-border md:k-overflow-hidden md:k-rounded-lg'})\n",
    "print(table.prettify()[1:1000])"
   ]
  },
  {
   "cell_type": "code",
   "execution_count": 3,
   "metadata": {},
   "outputs": [],
   "source": [
    "import requests\n",
    "from bs4 import BeautifulSoup\n",
    "import pandas as pd\n",
    "\n",
    "jobs = []\n",
    "\n",
    "for i in range(0,16):\n",
    "    url = f\"https://www.kalibrr.id/id-ID/job-board/te/data/{i}\"\n",
    "    response = requests.get(url)\n",
    "    response = response.content\n",
    "    soup = BeautifulSoup(response, 'html.parser')\n",
    "    table = soup.find('div', attrs={'class':'k-border-b k-border-t k-border-tertiary-ghost-color md:k-border md:k-overflow-hidden md:k-rounded-lg'})\n",
    "    rows = table.find_all('div', attrs={'class':'k-grid k-border-tertiary-ghost-color k-text-sm k-p-4 md:k-p-6 css-1b4vug6'})\n",
    "    for row in rows:\n",
    "        title = row.find('a', attrs={'class':'k-text-primary-color'}).text\n",
    "        location = row.find('a', attrs={'class':'k-text-subdued k-block'}).text\n",
    "        posted_deadline = row.find('span', attrs={'class':'k-block k-mb-1'}).text\n",
    "        company = row.find_all('a', attrs={'class':'k-text-subdued'})[1].text\n",
    "        jobs.append([title, location, posted_deadline, company])"
   ]
  },
  {
   "cell_type": "code",
   "execution_count": 4,
   "metadata": {
    "scrolled": false
   },
   "outputs": [
    {
     "data": {
      "text/plain": [
       "[['DevOps and Data Engineer',\n",
       "  'Tangerang Selatan, Indonesia',\n",
       "  'Posted 11 days ago • Apply before 13 May',\n",
       "  'Mobius Digital'],\n",
       " ['Network  Security Engineer',\n",
       "  'Jakarta, Indonesia',\n",
       "  'Posted 10 days ago • Apply before 19 Apr',\n",
       "  'PGI Data'],\n",
       " ['Data Entry',\n",
       "  'South Jakarta, Indonesia',\n",
       "  'Posted 15 days ago • Apply before 30 May',\n",
       "  'PT. Royal Trust'],\n",
       " ['Data Quality Analyst',\n",
       "  'Central Jakarta City, Indonesia',\n",
       "  'Posted 12 days ago • Apply before 1 May',\n",
       "  'Astra Financial'],\n",
       " ['Project Manager',\n",
       "  'Jakarta, Indonesia',\n",
       "  'Posted 12 days ago • Apply before 29 Jun',\n",
       "  'PGI Data']]"
      ]
     },
     "execution_count": 4,
     "metadata": {},
     "output_type": "execute_result"
    }
   ],
   "source": [
    "jobs[:5]"
   ]
  },
  {
   "cell_type": "markdown",
   "metadata": {},
   "source": [
    "Dari hasil scrapping data yang telah dilakukan, kita dapat memperoleh list lowongan pekerjaan beserta detail lainnya dalam suatu list yang kemudian akan diubah menjadi DataFrame."
   ]
  },
  {
   "cell_type": "code",
   "execution_count": 5,
   "metadata": {},
   "outputs": [],
   "source": [
    "df_jobs = pd.DataFrame(jobs, columns=['title', 'location', 'posted_deadline', 'company'])"
   ]
  },
  {
   "cell_type": "markdown",
   "metadata": {},
   "source": [
    "## Creating data frame & Data wrangling"
   ]
  },
  {
   "cell_type": "markdown",
   "metadata": {},
   "source": [
    "Put the array into dataframe"
   ]
  },
  {
   "cell_type": "code",
   "execution_count": 6,
   "metadata": {},
   "outputs": [],
   "source": [
    "df_jobs = pd.DataFrame(jobs, columns=['title', 'location', 'posted_deadline', 'company'])\n",
    "df_jobs.to_csv('jobs.csv')"
   ]
  },
  {
   "cell_type": "code",
   "execution_count": 7,
   "metadata": {},
   "outputs": [],
   "source": [
    "df_jobs = pd.read_csv('jobs.csv')"
   ]
  },
  {
   "cell_type": "code",
   "execution_count": 8,
   "metadata": {
    "scrolled": true
   },
   "outputs": [
    {
     "data": {
      "text/html": [
       "<div>\n",
       "<style scoped>\n",
       "    .dataframe tbody tr th:only-of-type {\n",
       "        vertical-align: middle;\n",
       "    }\n",
       "\n",
       "    .dataframe tbody tr th {\n",
       "        vertical-align: top;\n",
       "    }\n",
       "\n",
       "    .dataframe thead th {\n",
       "        text-align: right;\n",
       "    }\n",
       "</style>\n",
       "<table border=\"1\" class=\"dataframe\">\n",
       "  <thead>\n",
       "    <tr style=\"text-align: right;\">\n",
       "      <th></th>\n",
       "      <th>Unnamed: 0</th>\n",
       "      <th>title</th>\n",
       "      <th>location</th>\n",
       "      <th>posted_deadline</th>\n",
       "      <th>company</th>\n",
       "    </tr>\n",
       "  </thead>\n",
       "  <tbody>\n",
       "    <tr>\n",
       "      <th>0</th>\n",
       "      <td>0</td>\n",
       "      <td>DevOps and Data Engineer</td>\n",
       "      <td>Tangerang Selatan, Indonesia</td>\n",
       "      <td>Posted 11 days ago • Apply before 13 May</td>\n",
       "      <td>Mobius Digital</td>\n",
       "    </tr>\n",
       "    <tr>\n",
       "      <th>1</th>\n",
       "      <td>1</td>\n",
       "      <td>Network  Security Engineer</td>\n",
       "      <td>Jakarta, Indonesia</td>\n",
       "      <td>Posted 10 days ago • Apply before 19 Apr</td>\n",
       "      <td>PGI Data</td>\n",
       "    </tr>\n",
       "    <tr>\n",
       "      <th>2</th>\n",
       "      <td>2</td>\n",
       "      <td>Data Entry</td>\n",
       "      <td>South Jakarta, Indonesia</td>\n",
       "      <td>Posted 15 days ago • Apply before 30 May</td>\n",
       "      <td>PT. Royal Trust</td>\n",
       "    </tr>\n",
       "    <tr>\n",
       "      <th>3</th>\n",
       "      <td>3</td>\n",
       "      <td>Data Quality Analyst</td>\n",
       "      <td>Central Jakarta City, Indonesia</td>\n",
       "      <td>Posted 12 days ago • Apply before 1 May</td>\n",
       "      <td>Astra Financial</td>\n",
       "    </tr>\n",
       "    <tr>\n",
       "      <th>4</th>\n",
       "      <td>4</td>\n",
       "      <td>Project Manager</td>\n",
       "      <td>Jakarta, Indonesia</td>\n",
       "      <td>Posted 12 days ago • Apply before 29 Jun</td>\n",
       "      <td>PGI Data</td>\n",
       "    </tr>\n",
       "    <tr>\n",
       "      <th>...</th>\n",
       "      <td>...</td>\n",
       "      <td>...</td>\n",
       "      <td>...</td>\n",
       "      <td>...</td>\n",
       "      <td>...</td>\n",
       "    </tr>\n",
       "    <tr>\n",
       "      <th>235</th>\n",
       "      <td>235</td>\n",
       "      <td>SALES ADMINISTRATION OFFICER</td>\n",
       "      <td>Jakarta Timur, Indonesia</td>\n",
       "      <td>Posted 5 months ago • Apply before 30 May</td>\n",
       "      <td>Marga Nusantara Jaya</td>\n",
       "    </tr>\n",
       "    <tr>\n",
       "      <th>236</th>\n",
       "      <td>236</td>\n",
       "      <td>Digital Marketing Lead</td>\n",
       "      <td>Bogor Kota, Indonesia</td>\n",
       "      <td>Posted 10 days ago • Apply before 30 May</td>\n",
       "      <td>PT Gema Mulia Semesta (SOUVIA)</td>\n",
       "    </tr>\n",
       "    <tr>\n",
       "      <th>237</th>\n",
       "      <td>237</td>\n",
       "      <td>Brand Communication Specialist</td>\n",
       "      <td>Jakarta, Indonesia</td>\n",
       "      <td>Posted 9 days ago • Apply before 4 Jun</td>\n",
       "      <td>Renos.id</td>\n",
       "    </tr>\n",
       "    <tr>\n",
       "      <th>238</th>\n",
       "      <td>238</td>\n",
       "      <td>Back End (PHP) Developer [CONTRACT BASED]</td>\n",
       "      <td>Kota Jakarta Selatan, Indonesia</td>\n",
       "      <td>Posted a month ago • Apply before 24 May</td>\n",
       "      <td>Aleph Labs</td>\n",
       "    </tr>\n",
       "    <tr>\n",
       "      <th>239</th>\n",
       "      <td>239</td>\n",
       "      <td>Security Support Officer</td>\n",
       "      <td>South Jakarta, Indonesia</td>\n",
       "      <td>Posted a month ago • Apply before 5 May</td>\n",
       "      <td>Home Credit Indonesia</td>\n",
       "    </tr>\n",
       "  </tbody>\n",
       "</table>\n",
       "<p>240 rows × 5 columns</p>\n",
       "</div>"
      ],
      "text/plain": [
       "     Unnamed: 0                                      title  \\\n",
       "0             0                   DevOps and Data Engineer   \n",
       "1             1                 Network  Security Engineer   \n",
       "2             2                                 Data Entry   \n",
       "3             3                       Data Quality Analyst   \n",
       "4             4                            Project Manager   \n",
       "..          ...                                        ...   \n",
       "235         235               SALES ADMINISTRATION OFFICER   \n",
       "236         236                     Digital Marketing Lead   \n",
       "237         237             Brand Communication Specialist   \n",
       "238         238  Back End (PHP) Developer [CONTRACT BASED]   \n",
       "239         239                   Security Support Officer   \n",
       "\n",
       "                            location  \\\n",
       "0       Tangerang Selatan, Indonesia   \n",
       "1                 Jakarta, Indonesia   \n",
       "2           South Jakarta, Indonesia   \n",
       "3    Central Jakarta City, Indonesia   \n",
       "4                 Jakarta, Indonesia   \n",
       "..                               ...   \n",
       "235         Jakarta Timur, Indonesia   \n",
       "236            Bogor Kota, Indonesia   \n",
       "237               Jakarta, Indonesia   \n",
       "238  Kota Jakarta Selatan, Indonesia   \n",
       "239         South Jakarta, Indonesia   \n",
       "\n",
       "                               posted_deadline                         company  \n",
       "0     Posted 11 days ago • Apply before 13 May                  Mobius Digital  \n",
       "1     Posted 10 days ago • Apply before 19 Apr                        PGI Data  \n",
       "2     Posted 15 days ago • Apply before 30 May                 PT. Royal Trust  \n",
       "3      Posted 12 days ago • Apply before 1 May                 Astra Financial  \n",
       "4     Posted 12 days ago • Apply before 29 Jun                        PGI Data  \n",
       "..                                         ...                             ...  \n",
       "235  Posted 5 months ago • Apply before 30 May            Marga Nusantara Jaya  \n",
       "236   Posted 10 days ago • Apply before 30 May  PT Gema Mulia Semesta (SOUVIA)  \n",
       "237     Posted 9 days ago • Apply before 4 Jun                        Renos.id  \n",
       "238   Posted a month ago • Apply before 24 May                      Aleph Labs  \n",
       "239    Posted a month ago • Apply before 5 May           Home Credit Indonesia  \n",
       "\n",
       "[240 rows x 5 columns]"
      ]
     },
     "execution_count": 8,
     "metadata": {},
     "output_type": "execute_result"
    }
   ],
   "source": [
    "df_jobs"
   ]
  },
  {
   "cell_type": "markdown",
   "metadata": {},
   "source": [
    "Saya melakukan data cleaning dengan membagi kolom posted_deadline menjadi date_posted dan deadline, serta kolom location menjadi city dan state."
   ]
  },
  {
   "cell_type": "code",
   "execution_count": 9,
   "metadata": {
    "scrolled": false
   },
   "outputs": [
    {
     "data": {
      "text/html": [
       "<div>\n",
       "<style scoped>\n",
       "    .dataframe tbody tr th:only-of-type {\n",
       "        vertical-align: middle;\n",
       "    }\n",
       "\n",
       "    .dataframe tbody tr th {\n",
       "        vertical-align: top;\n",
       "    }\n",
       "\n",
       "    .dataframe thead th {\n",
       "        text-align: right;\n",
       "    }\n",
       "</style>\n",
       "<table border=\"1\" class=\"dataframe\">\n",
       "  <thead>\n",
       "    <tr style=\"text-align: right;\">\n",
       "      <th></th>\n",
       "      <th>title</th>\n",
       "      <th>company</th>\n",
       "      <th>date_posted</th>\n",
       "      <th>deadline</th>\n",
       "      <th>city</th>\n",
       "      <th>state</th>\n",
       "    </tr>\n",
       "  </thead>\n",
       "  <tbody>\n",
       "    <tr>\n",
       "      <th>0</th>\n",
       "      <td>DevOps and Data Engineer</td>\n",
       "      <td>Mobius Digital</td>\n",
       "      <td>Posted 11 days ago</td>\n",
       "      <td>2023-05-13</td>\n",
       "      <td>Tangerang Selatan</td>\n",
       "      <td>Indonesia</td>\n",
       "    </tr>\n",
       "    <tr>\n",
       "      <th>1</th>\n",
       "      <td>Network  Security Engineer</td>\n",
       "      <td>PGI Data</td>\n",
       "      <td>Posted 10 days ago</td>\n",
       "      <td>2023-04-19</td>\n",
       "      <td>Jakarta</td>\n",
       "      <td>Indonesia</td>\n",
       "    </tr>\n",
       "    <tr>\n",
       "      <th>2</th>\n",
       "      <td>Data Entry</td>\n",
       "      <td>PT. Royal Trust</td>\n",
       "      <td>Posted 15 days ago</td>\n",
       "      <td>2023-05-30</td>\n",
       "      <td>South Jakarta</td>\n",
       "      <td>Indonesia</td>\n",
       "    </tr>\n",
       "    <tr>\n",
       "      <th>3</th>\n",
       "      <td>Data Quality Analyst</td>\n",
       "      <td>Astra Financial</td>\n",
       "      <td>Posted 12 days ago</td>\n",
       "      <td>2023-05-01</td>\n",
       "      <td>Central Jakarta City</td>\n",
       "      <td>Indonesia</td>\n",
       "    </tr>\n",
       "    <tr>\n",
       "      <th>4</th>\n",
       "      <td>Project Manager</td>\n",
       "      <td>PGI Data</td>\n",
       "      <td>Posted 12 days ago</td>\n",
       "      <td>2023-06-29</td>\n",
       "      <td>Jakarta</td>\n",
       "      <td>Indonesia</td>\n",
       "    </tr>\n",
       "  </tbody>\n",
       "</table>\n",
       "</div>"
      ],
      "text/plain": [
       "                        title          company         date_posted   deadline  \\\n",
       "0    DevOps and Data Engineer   Mobius Digital  Posted 11 days ago 2023-05-13   \n",
       "1  Network  Security Engineer         PGI Data  Posted 10 days ago 2023-04-19   \n",
       "2                  Data Entry  PT. Royal Trust  Posted 15 days ago 2023-05-30   \n",
       "3        Data Quality Analyst  Astra Financial  Posted 12 days ago 2023-05-01   \n",
       "4             Project Manager         PGI Data  Posted 12 days ago 2023-06-29   \n",
       "\n",
       "                   city      state  \n",
       "0     Tangerang Selatan  Indonesia  \n",
       "1               Jakarta  Indonesia  \n",
       "2         South Jakarta  Indonesia  \n",
       "3  Central Jakarta City  Indonesia  \n",
       "4               Jakarta  Indonesia  "
      ]
     },
     "execution_count": 9,
     "metadata": {},
     "output_type": "execute_result"
    }
   ],
   "source": [
    "df_jobs[['date_posted', 'deadline']] = df_jobs.posted_deadline.str.split(' • Apply before ', expand = True)\n",
    "df_jobs[['city', 'state']] = df_jobs.location.str.split(', ', expand = True)\n",
    "df_jobs = df_jobs.drop(['Unnamed: 0', 'location', 'posted_deadline'], axis=1)\n",
    "df_jobs['deadline'] = pd.to_datetime(df_jobs['deadline'] + \" 2023\")\n",
    "df_jobs.head()"
   ]
  },
  {
   "cell_type": "code",
   "execution_count": 10,
   "metadata": {},
   "outputs": [],
   "source": [
    "df_jobs.loc[df_jobs['city'].str.contains('Jakarta'), 'city'] = 'Jakarta'\n",
    "df_jobs.loc[df_jobs['city'].str.contains('Bandung'), 'city'] = 'Bandung'\n",
    "df_jobs.loc[df_jobs['city'].str.contains('Bogor'), 'city'] = 'Bogor'\n",
    "df_jobs.loc[df_jobs['city'].str.contains('Malang'), 'city'] = 'Malang'\n",
    "df_jobs.loc[df_jobs['city'].str.contains('Tangerang'), 'city'] = 'Tangerang'\n",
    "df_jobs.loc[df_jobs['city'].str.contains('Sukabumi'), 'city'] = 'Sukabumi'\n",
    "df_jobs.loc[df_jobs['city'].str.contains('Surabaya'), 'city'] = 'Surabaya'\n",
    "df_jobs.loc[df_jobs['city'].str.contains('Semarang'), 'city'] = 'Semarang'\n",
    "df_jobs.loc[df_jobs['city'].str.contains('Lombok'), 'city'] = 'Lombok'"
   ]
  },
  {
   "cell_type": "markdown",
   "metadata": {},
   "source": [
    "## Finishing This Notebook with Your Analysis and Conclusion\n",
    "\n",
    "First you can do start with making the data visualisation. "
   ]
  },
  {
   "cell_type": "markdown",
   "metadata": {},
   "source": [
    "#### Jobs Available in Indonesia"
   ]
  },
  {
   "cell_type": "code",
   "execution_count": 11,
   "metadata": {},
   "outputs": [],
   "source": [
    "import plotnine\n",
    "from plotnine import *"
   ]
  },
  {
   "cell_type": "code",
   "execution_count": 12,
   "metadata": {},
   "outputs": [],
   "source": [
    "city = df_jobs.groupby('city').count()"
   ]
  },
  {
   "cell_type": "code",
   "execution_count": 13,
   "metadata": {},
   "outputs": [
    {
     "data": {
      "text/plain": [
       "<AxesSubplot:xlabel='city'>"
      ]
     },
     "execution_count": 13,
     "metadata": {},
     "output_type": "execute_result"
    },
    {
     "data": {
      "image/png": "[encoded data removed]",
      "text/plain": [
       "<Figure size 432x288 with 1 Axes>"
      ]
     },
     "metadata": {
      "needs_background": "light"
     },
     "output_type": "display_data"
    }
   ],
   "source": [
    "city.plot()"
   ]
  },
  {
   "cell_type": "code",
   "execution_count": 14,
   "metadata": {},
   "outputs": [],
   "source": [
    "city = df_jobs.groupby('city').count()['title'].reset_index().sort_values(by='title', ascending=True)\n",
    "city_list = city['city'].tolist()"
   ]
  },
  {
   "cell_type": "code",
   "execution_count": 15,
   "metadata": {
    "scrolled": true
   },
   "outputs": [
    {
     "data": {
      "image/png": "[encoded data removed]",
      "text/plain": [
       "<Figure size 640x480 with 1 Axes>"
      ]
     },
     "metadata": {},
     "output_type": "display_data"
    },
    {
     "data": {
      "text/plain": [
       "<ggplot: (182372592912)>"
      ]
     },
     "execution_count": 15,
     "metadata": {},
     "output_type": "execute_result"
    }
   ],
   "source": [
    "(ggplot(city, aes(x='city', y='title'))\n",
    "+ plotnine.geom_bar(stat='identity')\n",
    "+ plotnine.labs(title='Number of jobs available by city in Indonesia')\n",
    "+ scale_x_discrete(limits=city_list)\n",
    "+ coord_flip())"
   ]
  },
  {
   "cell_type": "markdown",
   "metadata": {},
   "source": [
    "Jumlah lowongan yang ada di Kalibrr di Indonesia di dominasi oleh Jakarta dan Tangerang."
   ]
  },
  {
   "cell_type": "markdown",
   "metadata": {},
   "source": [
    "### Implementing your webscrapping to the flask dashboard\n",
    "\n",
    "- Copy paste all of your web scrapping process to the desired position on the `app.py`\n",
    "- Changing the title of the dasboard at `index.html`"
   ]
  },
  {
   "cell_type": "markdown",
   "metadata": {},
   "source": [
    "### Implement it at the webapps\n",
    "\n",
    "- You can create additional analysis from the data.\n",
    "- Implement it to the dashboard with at `app.py` dan `index.html`."
   ]
  }
 ],
 "metadata": {
  "kernelspec": {
   "display_name": "Python 3 (ipykernel)",
   "language": "python",
   "name": "python3"
  },
  "language_info": {
   "codemirror_mode": {
    "name": "ipython",
    "version": 3
   },
   "file_extension": ".py",
   "mimetype": "text/x-python",
   "name": "python",
   "nbconvert_exporter": "python",
   "pygments_lexer": "ipython3",
   "version": "3.9.12"
  }
 },
 "nbformat": 4,
 "nbformat_minor": 2
}
